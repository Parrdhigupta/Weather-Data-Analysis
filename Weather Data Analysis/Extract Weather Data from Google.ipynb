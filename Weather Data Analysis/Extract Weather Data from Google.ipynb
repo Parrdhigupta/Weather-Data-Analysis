{
 "cells": [
  {
   "cell_type": "markdown",
   "id": "5ef0ade1",
   "metadata": {},
   "source": [
    "#  Extracting Weather Data from Google"
   ]
  },
  {
   "cell_type": "markdown",
   "id": "c25dc607",
   "metadata": {},
   "source": [
    "Google does not have its own weather API, it fetches data from weather.com."
   ]
  },
  {
   "cell_type": "markdown",
   "id": "9918564c",
   "metadata": {},
   "source": [
    "## Importing Libraries"
   ]
  },
  {
   "cell_type": "markdown",
   "id": "28f97a7f",
   "metadata": {},
   "source": [
    "Module needed:\n",
    "\n",
    "`Requests`: Requests allow you to send HTTP/1.1 requests extremely easily. This module also does not come built-in with Python. \n",
    "\n",
    "`bs4`: Beautiful Soup is a library that makes it easy to scrape information from web pages. Whether it be an HTML or XML page, that can later be used for iterating, searching, and modifying the data within it."
   ]
  },
  {
   "cell_type": "code",
   "execution_count": 22,
   "id": "03b0f8ad",
   "metadata": {},
   "outputs": [],
   "source": [
    "# importing the library\n",
    "import requests\n",
    "from bs4 import BeautifulSoup"
   ]
  },
  {
   "cell_type": "markdown",
   "id": "f854f6c6",
   "metadata": {},
   "source": [
    "#### Create a URL with the entered city name in it and pass it to the get function."
   ]
  },
  {
   "cell_type": "code",
   "execution_count": 23,
   "id": "4dfb0f72",
   "metadata": {},
   "outputs": [],
   "source": [
    "# enter city name\n",
    "city = \"Bareilly\"\n",
    "\n",
    "# create url\n",
    "url = \"https://www.google.com/search?q=\"+\"weather\"+city\n",
    "\n",
    "# requests instance\n",
    "html = requests.get(url).content\n",
    "\n",
    "# getting raw data\n",
    "soup = BeautifulSoup(html, 'html.parser')"
   ]
  },
  {
   "cell_type": "markdown",
   "id": "65e4cd2c",
   "metadata": {},
   "source": [
    "#### Soup will return a heap of data with HTML tags.\n",
    "\n",
    "So, a chunk of data has been shown below from which we will get all the necessary data with the help of the find function and passing the tag name and class name."
   ]
  },
  {
   "cell_type": "markdown",
   "id": "a3d3dc54",
   "metadata": {},
   "source": [
    "Note -> Double tab the below cell to see results. "
   ]
  },
  {
   "cell_type": "markdown",
   "id": "9c15004f",
   "metadata": {},
   "source": [
    "<div class=”kvKEAb”><div><div><div class=”BNeawe iBp4i AP7Wnd”><div><div class=”BNeawe \n",
    "iBp4i AP7Wnd”>13°C</div></div></div></div></div><div><div><div class=”BNeawe tAd8D AP7Wnd”> \n",
    "<div><div class=”BNeawe tAd8D AP7Wnd”>Saturday 11:10 am"
   ]
  },
  {
   "cell_type": "code",
   "execution_count": 24,
   "id": "6feccfe6",
   "metadata": {},
   "outputs": [],
   "source": [
    "# get the temperature\n",
    "temp = soup.find('div', attrs={'class': 'BNeawe iBp4i AP7Wnd'}).text\n",
    "\n",
    "# this contains time and sky description\n",
    "str = soup.find('div', attrs={'class': 'BNeawe tAd8D AP7Wnd'}).text\n",
    "\n",
    "# format the data\n",
    "data = str.split('\\n')\n",
    "time = data[0]\n",
    "sky = data[1]"
   ]
  },
  {
   "cell_type": "code",
   "execution_count": 25,
   "id": "44de726d",
   "metadata": {},
   "outputs": [],
   "source": [
    "# list having all div tags having particular class name\n",
    "listdiv = soup.findAll('div', attrs={'class': 'BNeawe s3v9rd AP7Wnd'})\n",
    "\n",
    "# particular list with required data\n",
    "strd = listdiv[7].text\n",
    "\n",
    "# formatting the string\n",
    "pos = strd.find('Wind')\n",
    "other_data = strd[pos:]"
   ]
  },
  {
   "cell_type": "code",
   "execution_count": 26,
   "id": "063f070e",
   "metadata": {},
   "outputs": [
    {
     "name": "stdout",
     "output_type": "stream",
     "text": [
      "City Name : Bareilly\n",
      "Temperature is 42°C\n",
      "Time:  Saturday 3:32 pm\n",
      "Sky Description:  Sunny\n",
      ".\n"
     ]
    }
   ],
   "source": [
    "# printing all the data\n",
    "print(\"City Name :\", city)\n",
    "print(\"Temperature is\", temp)\n",
    "print(\"Time: \", time)\n",
    "print(\"Sky Description: \", sky)\n",
    "print(other_data)"
   ]
  },
  {
   "cell_type": "markdown",
   "id": "a048ea3d",
   "metadata": {},
   "source": [
    "### Method 2"
   ]
  },
  {
   "cell_type": "code",
   "execution_count": 21,
   "id": "e5288e7b",
   "metadata": {},
   "outputs": [
    {
     "name": "stdout",
     "output_type": "stream",
     "text": [
      "Ghāziābād\n",
      "Weather report: Ghāziābād\n",
      "\n",
      "  \u001b[38;5;226m    \\   /    \u001b[0m Sunny\n",
      "  \u001b[38;5;226m     .-.     \u001b[0m \u001b[38;5;214m+29\u001b[0m(\u001b[38;5;220m27\u001b[0m) °C\u001b[0m     \n",
      "  \u001b[38;5;226m  ― (   ) ―  \u001b[0m \u001b[1m↙\u001b[0m \u001b[38;5;118m4\u001b[0m km/h\u001b[0m       \n",
      "  \u001b[38;5;226m     `-’     \u001b[0m 10 km\u001b[0m          \n",
      "  \u001b[38;5;226m    /   \\    \u001b[0m 0.0 mm\u001b[0m         \n",
      "                                                       ┌─────────────┐                                                       \n",
      "┌──────────────────────────────┬───────────────────────┤  Sat 25 May ├───────────────────────┬──────────────────────────────┐\n",
      "│            Morning           │             Noon      └──────┬──────┘     Evening           │             Night            │\n",
      "├──────────────────────────────┼──────────────────────────────┼──────────────────────────────┼──────────────────────────────┤\n",
      "│ \u001b[38;5;226m    \\   /    \u001b[0m Sunny          │ \u001b[38;5;226m _`/\"\"\u001b[38;5;250m.-.    \u001b[0m Patchy rain ne…│ \u001b[38;5;226m    \\   /    \u001b[0m Sunny          │ \u001b[38;5;226m    \\   /    \u001b[0m Clear          │\n",
      "│ \u001b[38;5;226m     .-.     \u001b[0m \u001b[38;5;214m+29\u001b[0m(\u001b[38;5;220m27\u001b[0m) °C\u001b[0m     │ \u001b[38;5;226m  ,\\_\u001b[38;5;250m(   ).  \u001b[0m \u001b[38;5;208m+31\u001b[0m(\u001b[38;5;214m30\u001b[0m) °C\u001b[0m     │ \u001b[38;5;226m     .-.     \u001b[0m \u001b[38;5;220m27\u001b[0m °C\u001b[0m          │ \u001b[38;5;226m     .-.     \u001b[0m \u001b[38;5;226m+24\u001b[0m(\u001b[38;5;220m25\u001b[0m) °C\u001b[0m     │\n",
      "│ \u001b[38;5;226m  ― (   ) ―  \u001b[0m \u001b[1m↙\u001b[0m \u001b[38;5;118m4\u001b[0m-\u001b[38;5;118m5\u001b[0m km/h\u001b[0m     │ \u001b[38;5;226m   /\u001b[38;5;250m(___(__) \u001b[0m \u001b[1m↑\u001b[0m \u001b[38;5;190m10\u001b[0m-\u001b[38;5;190m12\u001b[0m km/h\u001b[0m   │ \u001b[38;5;226m  ― (   ) ―  \u001b[0m \u001b[1m↑\u001b[0m \u001b[38;5;118m4\u001b[0m-\u001b[38;5;118m5\u001b[0m km/h\u001b[0m     │ \u001b[38;5;226m  ― (   ) ―  \u001b[0m \u001b[1m↓\u001b[0m \u001b[38;5;226m15\u001b[0m-\u001b[38;5;214m20\u001b[0m km/h\u001b[0m   │\n",
      "│ \u001b[38;5;226m     `-’     \u001b[0m 10 km\u001b[0m          │ \u001b[38;5;111m     ‘ ‘ ‘ ‘ \u001b[0m 10 km\u001b[0m          │ \u001b[38;5;226m     `-’     \u001b[0m 10 km\u001b[0m          │ \u001b[38;5;226m     `-’     \u001b[0m 10 km\u001b[0m          │\n",
      "│ \u001b[38;5;226m    /   \\    \u001b[0m 0.0 mm | 0%\u001b[0m    │ \u001b[38;5;111m    ‘ ‘ ‘ ‘  \u001b[0m 0.0 mm | 86%\u001b[0m   │ \u001b[38;5;226m    /   \\    \u001b[0m 0.0 mm | 0%\u001b[0m    │ \u001b[38;5;226m    /   \\    \u001b[0m 0.0 mm | 0%\u001b[0m    │\n",
      "└──────────────────────────────┴──────────────────────────────┴──────────────────────────────┴──────────────────────────────┘\n",
      "                                                       ┌─────────────┐                                                       \n",
      "┌──────────────────────────────┬───────────────────────┤  Sun 26 May ├───────────────────────┬──────────────────────────────┐\n",
      "│            Morning           │             Noon      └──────┬──────┘     Evening           │             Night            │\n",
      "├──────────────────────────────┼──────────────────────────────┼──────────────────────────────┼──────────────────────────────┤\n",
      "│ \u001b[38;5;226m    \\   /    \u001b[0m Sunny          │ \u001b[38;5;226m    \\   /    \u001b[0m Sunny          │ \u001b[38;5;226m    \\   /    \u001b[0m Sunny          │ \u001b[38;5;226m    \\   /    \u001b[0m Clear          │\n",
      "│ \u001b[38;5;226m     .-.     \u001b[0m \u001b[38;5;214m+29\u001b[0m(\u001b[38;5;220m27\u001b[0m) °C\u001b[0m     │ \u001b[38;5;226m     .-.     \u001b[0m \u001b[38;5;208m+32\u001b[0m(\u001b[38;5;214m30\u001b[0m) °C\u001b[0m     │ \u001b[38;5;226m     .-.     \u001b[0m \u001b[38;5;214m+28\u001b[0m(\u001b[38;5;220m27\u001b[0m) °C\u001b[0m     │ \u001b[38;5;226m     .-.     \u001b[0m \u001b[38;5;220m25\u001b[0m °C\u001b[0m          │\n",
      "│ \u001b[38;5;226m  ― (   ) ―  \u001b[0m \u001b[1m↙\u001b[0m \u001b[38;5;118m6\u001b[0m-\u001b[38;5;154m7\u001b[0m km/h\u001b[0m     │ \u001b[38;5;226m  ― (   ) ―  \u001b[0m \u001b[1m↑\u001b[0m \u001b[38;5;154m7\u001b[0m-\u001b[38;5;154m8\u001b[0m km/h\u001b[0m     │ \u001b[38;5;226m  ― (   ) ―  \u001b[0m \u001b[1m↗\u001b[0m \u001b[38;5;154m7\u001b[0m-\u001b[38;5;154m8\u001b[0m km/h\u001b[0m     │ \u001b[38;5;226m  ― (   ) ―  \u001b[0m \u001b[1m↘\u001b[0m \u001b[38;5;226m14\u001b[0m-\u001b[38;5;214m21\u001b[0m km/h\u001b[0m   │\n",
      "│ \u001b[38;5;226m     `-’     \u001b[0m 10 km\u001b[0m          │ \u001b[38;5;226m     `-’     \u001b[0m 10 km\u001b[0m          │ \u001b[38;5;226m     `-’     \u001b[0m 10 km\u001b[0m          │ \u001b[38;5;226m     `-’     \u001b[0m 10 km\u001b[0m          │\n",
      "│ \u001b[38;5;226m    /   \\    \u001b[0m 0.0 mm | 0%\u001b[0m    │ \u001b[38;5;226m    /   \\    \u001b[0m 0.0 mm | 0%\u001b[0m    │ \u001b[38;5;226m    /   \\    \u001b[0m 0.0 mm | 0%\u001b[0m    │ \u001b[38;5;226m    /   \\    \u001b[0m 0.0 mm | 0%\u001b[0m    │\n",
      "└──────────────────────────────┴──────────────────────────────┴──────────────────────────────┴──────────────────────────────┘\n",
      "                                                       ┌─────────────┐                                                       \n",
      "┌──────────────────────────────┬───────────────────────┤  Mon 27 May ├───────────────────────┬──────────────────────────────┐\n",
      "│            Morning           │             Noon      └──────┬──────┘     Evening           │             Night            │\n",
      "├──────────────────────────────┼──────────────────────────────┼──────────────────────────────┼──────────────────────────────┤\n",
      "│ \u001b[38;5;226m    \\   /    \u001b[0m Sunny          │ \u001b[38;5;226m    \\   /    \u001b[0m Sunny          │ \u001b[38;5;226m    \\   /    \u001b[0m Sunny          │ \u001b[38;5;226m    \\   /    \u001b[0m Clear          │\n",
      "│ \u001b[38;5;226m     .-.     \u001b[0m \u001b[38;5;214m+28\u001b[0m(\u001b[38;5;220m26\u001b[0m) °C\u001b[0m     │ \u001b[38;5;226m     .-.     \u001b[0m \u001b[38;5;220m+26\u001b[0m(\u001b[38;5;220m25\u001b[0m) °C\u001b[0m     │ \u001b[38;5;226m     .-.     \u001b[0m \u001b[38;5;220m26\u001b[0m °C\u001b[0m          │ \u001b[38;5;226m     .-.     \u001b[0m \u001b[38;5;226m+24\u001b[0m(\u001b[38;5;220m25\u001b[0m) °C\u001b[0m     │\n",
      "│ \u001b[38;5;226m  ― (   ) ―  \u001b[0m \u001b[1m↙\u001b[0m \u001b[38;5;118m6\u001b[0m-\u001b[38;5;154m7\u001b[0m km/h\u001b[0m     │ \u001b[38;5;226m  ― (   ) ―  \u001b[0m \u001b[1m↑\u001b[0m \u001b[38;5;190m10\u001b[0m-\u001b[38;5;220m19\u001b[0m km/h\u001b[0m   │ \u001b[38;5;226m  ― (   ) ―  \u001b[0m \u001b[1m↓\u001b[0m \u001b[38;5;226m15\u001b[0m-\u001b[38;5;220m17\u001b[0m km/h\u001b[0m   │ \u001b[38;5;226m  ― (   ) ―  \u001b[0m \u001b[1m↓\u001b[0m \u001b[38;5;220m17\u001b[0m-\u001b[38;5;208m24\u001b[0m km/h\u001b[0m   │\n",
      "│ \u001b[38;5;226m     `-’     \u001b[0m 10 km\u001b[0m          │ \u001b[38;5;226m     `-’     \u001b[0m 10 km\u001b[0m          │ \u001b[38;5;226m     `-’     \u001b[0m 10 km\u001b[0m          │ \u001b[38;5;226m     `-’     \u001b[0m 10 km\u001b[0m          │\n",
      "│ \u001b[38;5;226m    /   \\    \u001b[0m 0.0 mm | 0%\u001b[0m    │ \u001b[38;5;226m    /   \\    \u001b[0m 0.0 mm | 0%\u001b[0m    │ \u001b[38;5;226m    /   \\    \u001b[0m 0.0 mm | 0%\u001b[0m    │ \u001b[38;5;226m    /   \\    \u001b[0m 0.0 mm | 0%\u001b[0m    │\n",
      "└──────────────────────────────┴──────────────────────────────┴──────────────────────────────┴──────────────────────────────┘\n",
      "Location: Ghaziabad, Kunar Province, Afghanistan [35.233837,71.33074]\n",
      "\n",
      "Follow \u001b[46m\u001b[30m@igor_chubin\u001b[0m for wttr.in updates\n",
      "\n"
     ]
    }
   ],
   "source": [
    "# Python code to display schematic weather details\n",
    "import requests\n",
    "#Sending requests to get the IP Location Information\n",
    "res = requests.get('https://ipinfo.io/')\n",
    "# Receiving the response in JSON format\n",
    "data = res.json()\n",
    "# Extracting the Location of the City from the response\n",
    "citydata = data['city']\n",
    "# Prints the Current Location\n",
    "print(citydata)\n",
    "# Passing the City name to the url\n",
    "url = 'https://wttr.in/{}'.format(citydata)\n",
    "# Getting the Weather Data of the City\n",
    "res = requests.get(url)\n",
    "# Printing the results!\n",
    "print(res.text)\n",
    "# This code is contributed by PL VISHNUPPRIYAN"
   ]
  },
  {
   "cell_type": "code",
   "execution_count": null,
   "id": "dfd276f4",
   "metadata": {},
   "outputs": [],
   "source": []
  }
 ],
 "metadata": {
  "kernelspec": {
   "display_name": "Python 3 (ipykernel)",
   "language": "python",
   "name": "python3"
  },
  "language_info": {
   "codemirror_mode": {
    "name": "ipython",
    "version": 3
   },
   "file_extension": ".py",
   "mimetype": "text/x-python",
   "name": "python",
   "nbconvert_exporter": "python",
   "pygments_lexer": "ipython3",
   "version": "3.8.19"
  }
 },
 "nbformat": 4,
 "nbformat_minor": 5
}
